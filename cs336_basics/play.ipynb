{
 "cells": [
  {
   "cell_type": "code",
   "execution_count": 2,
   "id": "c0988545",
   "metadata": {},
   "outputs": [
    {
     "data": {
      "text/plain": [
       "(b's', b't')"
      ]
     },
     "execution_count": 2,
     "metadata": {},
     "output_type": "execute_result"
    }
   ],
   "source": [
    "pair_count = {(b'e',b's'): 9, (b's', b't'): 9}\n",
    "\n",
    "max(pair_count, key=lambda pair: (pair_count[pair], pair))\n"
   ]
  },
  {
   "cell_type": "code",
   "execution_count": 5,
   "id": "1d6f401a",
   "metadata": {},
   "outputs": [],
   "source": [
    "for i in range (0):\n",
    "    print(i)\n",
    "    "
   ]
  }
 ],
 "metadata": {
  "kernelspec": {
   "display_name": "cs336-basics",
   "language": "python",
   "name": "python3"
  },
  "language_info": {
   "codemirror_mode": {
    "name": "ipython",
    "version": 3
   },
   "file_extension": ".py",
   "mimetype": "text/x-python",
   "name": "python",
   "nbconvert_exporter": "python",
   "pygments_lexer": "ipython3",
   "version": "3.12.9"
  }
 },
 "nbformat": 4,
 "nbformat_minor": 5
}
